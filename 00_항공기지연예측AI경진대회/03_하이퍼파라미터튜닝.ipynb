{
 "cells": [
  {
   "cell_type": "code",
   "execution_count": 5,
   "id": "735a4c60",
   "metadata": {},
   "outputs": [],
   "source": [
    "import pandas as pd\n",
    "import seaborn as sns\n",
    "import matplotlib.pyplot as plt\n",
    "import numpy as np\n",
    "import warnings\n",
    "warnings.filterwarnings('ignore')"
   ]
  },
  {
   "cell_type": "code",
   "execution_count": 6,
   "id": "41043c7a",
   "metadata": {},
   "outputs": [],
   "source": [
    "# data load 함수\n",
    "def load_data() :\n",
    "    df_train = pd.read_csv('train.csv')\n",
    "    df_test = pd.read_csv('test.csv')\n",
    "    df_sub = pd.read_csv('sample_submission.csv')\n",
    "    return df_train, df_test, df_sub"
   ]
  },
  {
   "cell_type": "code",
   "execution_count": 7,
   "id": "88513fab",
   "metadata": {},
   "outputs": [],
   "source": [
    "# 데이터 전처리 함수 \n",
    "def preprocess_data(df_train, df_test) : \n",
    "    \n",
    "    # train 데이터 타겟값을 0, 1로 변경 \n",
    "    df_train['Delay'].replace('Not_Delayed', 0, inplace=True)\n",
    "    df_train['Delay'].replace('Delayed', 1, inplace=True)\n",
    "    \n",
    "    # 타겟값이 null이 아닌 데이터만 추출\n",
    "    df_train = df_train[df_train['Delay'].notnull()]\n",
    "    \n",
    "    # train, test 데이터를 합쳐 전처리 \n",
    "    df = pd.concat([df_train, df_test])\n",
    "    \n",
    "    # 불필요한 피쳐 drop\n",
    "    df.drop(['Cancelled', 'Diverted', 'Origin_Airport_ID', 'Destination_Airport_ID',\n",
    "            'Carrier_ID(DOT)'], axis=1, inplace=True)\n",
    "    \n",
    "    # 출발/도착 시간 (hour) 컬럼 생성\n",
    "    df['Estimated_Departure_Time_Hour'] = df['Estimated_Departure_Time'].astype(str).apply(lambda x : x.split('.')[0].zfill(4)[:-2])\n",
    "    df['Estimated_Departure_Time_Hour'] = df['Estimated_Departure_Time_Hour'].replace('0n', np.nan).astype(float)\n",
    "    df['Estimated_Arrival_Time_Hour'] = df['Estimated_Arrival_Time'].astype(str).apply(lambda x : x.split('.')[0].zfill(4)[:-2])\n",
    "    df['Estimated_Arrival_Time_Hour'] = df['Estimated_Arrival_Time_Hour'].replace('0n', np.nan).astype(float)\n",
    "    \n",
    "    return df"
   ]
  },
  {
   "cell_type": "code",
   "execution_count": 12,
   "id": "779418ec",
   "metadata": {},
   "outputs": [],
   "source": [
    "# agg 컬럼 생성 함수 \n",
    "def df_merge_agg(df) :\n",
    "    # Month agg 연산\n",
    "    month_grp = df.groupby('Month')\n",
    "    month_dict = {\n",
    "        'Month' : ['count'],\n",
    "        'Delay' : ['sum']\n",
    "    }\n",
    "    month_agg = month_grp.agg(month_dict)\n",
    "    month_agg.columns = ['count', 'sum']\n",
    "    month_agg['month_delay_ratio'] = month_agg['sum'] / month_agg['count']\n",
    "    month_agg = month_agg['month_delay_ratio'].reset_index()\n",
    "    \n",
    "    # Day agg 연산\n",
    "    day_grp = df.groupby('Day_of_Month')\n",
    "    day_dict = {\n",
    "        'Day_of_Month' : ['count'],\n",
    "        'Delay' : ['sum']\n",
    "    }\n",
    "    day_agg = day_grp.agg(day_dict)\n",
    "    day_agg.columns = ['count', 'sum']\n",
    "    day_agg['day_delay_ratio'] = day_agg['sum'] / day_agg['count']\n",
    "    day_agg = day_agg['day_delay_ratio'].reset_index()\n",
    "    \n",
    "    # 출발 시간 agg 연산\n",
    "    depart_hour_grp = df.groupby('Estimated_Departure_Time_Hour')\n",
    "    depart_hour_dict = {\n",
    "        'Estimated_Departure_Time_Hour' : ['count'],\n",
    "        'Delay' : ['sum']\n",
    "    }\n",
    "    depart_hour_agg = depart_hour_grp.agg(depart_hour_dict)\n",
    "    depart_hour_agg.columns = ['count', 'sum']\n",
    "    depart_hour_agg['depart_hour_ratio'] = depart_hour_agg['sum'] / depart_hour_agg['count']\n",
    "    depart_hour_agg = depart_hour_agg['depart_hour_ratio'].reset_index()\n",
    "    \n",
    "    # 도착 시간 agg 연산\n",
    "    arrival_hour_grp = df.groupby('Estimated_Arrival_Time_Hour')\n",
    "    arrival_hour_dict = {\n",
    "        'Estimated_Arrival_Time_Hour' : ['count'],\n",
    "        'Delay' : ['sum']\n",
    "    }\n",
    "    arrival_hour_agg = arrival_hour_grp.agg(arrival_hour_dict)\n",
    "    arrival_hour_agg.columns = ['count', 'sum']\n",
    "    arrival_hour_agg['arrival_hour_ratio'] = arrival_hour_agg['sum'] / arrival_hour_agg['count']\n",
    "    arrival_hour_agg = arrival_hour_agg['arrival_hour_ratio'].reset_index()\n",
    "    \n",
    "    # 출발 공항 agg 연산\n",
    "    origin_airport_grp = df.groupby('Origin_Airport')\n",
    "    origin_airport_dict = {\n",
    "        'Origin_Airport' : ['count'],\n",
    "        'Delay' : ['sum']\n",
    "    }\n",
    "    origin_airport_agg = origin_airport_grp.agg(origin_airport_dict)\n",
    "    origin_airport_agg.columns = ['count', 'sum']\n",
    "    origin_airport_agg['origin_airport_delay_ratio'] = origin_airport_agg['sum'] / origin_airport_agg['count']\n",
    "    origin_airport_agg = origin_airport_agg['origin_airport_delay_ratio'].reset_index()\n",
    "    \n",
    "    # 출발 주 agg 연산\n",
    "    origin_state_grp = df.groupby('Origin_State')\n",
    "    origin_state_dict = {\n",
    "        'Origin_State' : ['count'],\n",
    "        'Delay' : ['sum']\n",
    "    }\n",
    "    origin_state_agg = origin_state_grp.agg(origin_state_dict)\n",
    "    origin_state_agg.columns = ['count', 'sum']\n",
    "    origin_state_agg['origin_state_delay_ratio'] = origin_state_agg['sum'] / origin_state_agg['count']\n",
    "    origin_state_agg = origin_state_agg['origin_state_delay_ratio'].reset_index()\n",
    "    \n",
    "    # 도착 공항 agg 연산\n",
    "    dest_airport_grp = df.groupby('Destination_Airport')\n",
    "    dest_airport_dict = {\n",
    "        'Destination_Airport' : ['count'],\n",
    "        'Delay' : ['sum']\n",
    "    }\n",
    "    dest_airport_agg = dest_airport_grp.agg(dest_airport_dict)\n",
    "    dest_airport_agg.columns = ['count', 'sum']\n",
    "    dest_airport_agg['dest_airport_delay_ratio'] = dest_airport_agg['sum'] / dest_airport_agg['count']\n",
    "    dest_airport_agg = dest_airport_agg['dest_airport_delay_ratio'].reset_index()\n",
    "    \n",
    "    # 도착 주 agg 연산\n",
    "    dest_state_grp = df.groupby('Destination_State')\n",
    "    dest_state_dict = {\n",
    "        'Destination_State' : ['count'],\n",
    "        'Delay' : ['sum']\n",
    "    }\n",
    "    dest_state_agg = dest_state_grp.agg(dest_state_dict)\n",
    "    dest_state_agg.columns = ['count', 'sum']\n",
    "    dest_state_agg['dest_state_delay_ratio'] = dest_state_agg['sum'] / dest_state_agg['count']\n",
    "    dest_state_agg = dest_state_agg['dest_state_delay_ratio'].reset_index()\n",
    "    \n",
    "    # 항공사 agg 연산\n",
    "    airline_grp = df.groupby('Airline')\n",
    "    airline_dict = {\n",
    "        'Airline' : ['count'],\n",
    "        'Delay' : ['sum']\n",
    "    }\n",
    "    airline_agg = airline_grp.agg(airline_dict)\n",
    "    airline_agg.columns = ['count', 'sum']\n",
    "    airline_agg['airline_delay_ratio'] = airline_agg['sum'] / airline_agg['count']\n",
    "    airline_agg = airline_agg['airline_delay_ratio'].reset_index()\n",
    "    \n",
    "    # Carrier_Code(IATA) agg 연산\n",
    "    carrier_grp = df.groupby('Carrier_Code(IATA)')\n",
    "    carrier_dict = {\n",
    "        'Carrier_Code(IATA)' : ['count'],\n",
    "        'Delay' : ['sum']\n",
    "    }\n",
    "    carrier_agg = carrier_grp.agg(carrier_dict)\n",
    "    carrier_agg.columns = ['count', 'sum']\n",
    "    carrier_agg['carrier_delay_ratio'] = carrier_agg['sum'] / carrier_agg['count']\n",
    "    carrier_agg = carrier_agg['carrier_delay_ratio'].reset_index()\n",
    "    \n",
    "    # 항공기 agg 연산\n",
    "    tail_grp = df.groupby('Tail_Number')\n",
    "    tail_dict = {\n",
    "        'Tail_Number' : ['count'],\n",
    "        'Delay' : ['sum']\n",
    "    }\n",
    "    tail_agg = tail_grp.agg(tail_dict)\n",
    "    tail_agg.columns = ['count', 'sum']\n",
    "    tail_agg['tail_delay_ratio'] = tail_agg['sum'] / tail_agg['count']\n",
    "    tail_agg = tail_agg['tail_delay_ratio'].reset_index()\n",
    "    \n",
    "    # df와 merge\n",
    "    df = df.merge(month_agg, on='Month', how='left')\n",
    "    df = df.merge(day_agg, on='Day_of_Month', how='left')\n",
    "    df = df.merge(depart_hour_agg, on='Estimated_Departure_Time_Hour', how='left')\n",
    "    df = df.merge(arrival_hour_agg, on='Estimated_Arrival_Time_Hour', how='left')\n",
    "    df = df.merge(origin_airport_agg, on='Origin_Airport', how='left')\n",
    "    df = df.merge(origin_state_agg, on='Origin_State', how='left')\n",
    "    df = df.merge(dest_airport_agg, on='Destination_Airport', how='left')\n",
    "    df = df.merge(dest_state_agg, on='Destination_State', how='left')\n",
    "    df = df.merge(airline_agg, on='Airline', how='left')\n",
    "    df = df.merge(carrier_agg, on='Carrier_Code(IATA)', how='left')\n",
    "    df = df.merge(tail_agg, on='Tail_Number', how='left')\n",
    "    \n",
    "    # 카테고리 컬럼 라벨링\n",
    "    object_columns = ['Origin_Airport', 'Origin_State', 'Destination_Airport',\n",
    "                     'Destination_State', 'Airline', 'Carrier_Code(IATA)', \n",
    "                     'Tail_Number']\n",
    "    for column in object_columns : \n",
    "        df[column] = pd.factorize(df[column])[0]\n",
    "    \n",
    "    return df"
   ]
  },
  {
   "cell_type": "code",
   "execution_count": 13,
   "id": "e4b935eb",
   "metadata": {},
   "outputs": [
    {
     "data": {
      "text/plain": [
       "((1000000, 19), (1000000, 18))"
      ]
     },
     "execution_count": 13,
     "metadata": {},
     "output_type": "execute_result"
    }
   ],
   "source": [
    "df_train, df_test, df_sub = load_data()\n",
    "df_train.shape, df_test.shape"
   ]
  },
  {
   "cell_type": "code",
   "execution_count": 14,
   "id": "4b0d24cc",
   "metadata": {},
   "outputs": [
    {
     "data": {
      "text/plain": [
       "(1255001, 16)"
      ]
     },
     "execution_count": 14,
     "metadata": {},
     "output_type": "execute_result"
    }
   ],
   "source": [
    "df = preprocess_data(df_train, df_test)\n",
    "df.shape"
   ]
  },
  {
   "cell_type": "code",
   "execution_count": 15,
   "id": "e5ffe821",
   "metadata": {},
   "outputs": [
    {
     "data": {
      "text/plain": [
       "(1255001, 27)"
      ]
     },
     "execution_count": 15,
     "metadata": {},
     "output_type": "execute_result"
    }
   ],
   "source": [
    "df = df_merge_agg(df)\n",
    "df.shape"
   ]
  },
  {
   "cell_type": "markdown",
   "id": "25c6f1e4",
   "metadata": {},
   "source": [
    "## 오버 샘플링 + 하이퍼 파라미터 튜닝"
   ]
  },
  {
   "cell_type": "code",
   "execution_count": null,
   "id": "4619d9f0",
   "metadata": {},
   "outputs": [],
   "source": [
    "from sklearn.model_selection import train_test_split\n",
    "from bayes_opt import BayesianOptimization\n",
    "from sklearn.metrics import log_loss\n",
    "\n",
    "X = df_train.drop(['ID', 'Delay'], axis=1)\n",
    "y = df_train['Delay']\n",
    "\n",
    "randomOS = RandomOverSampler(random_state=2020)\n",
    "X_over, y_over = randomOS.fit_resample(X, y)\n",
    "train_X, valid_X, train_y, valid_y = train_test_split(X_over, y_over, test_size=0.3, random_state=2020, stratify=y_over)\n",
    "\n",
    "bayes_params = {\n",
    "    'max_depth' : (6, 16),\n",
    "    'num_leaves' : (24, 64),\n",
    "    'min_child_weight' : (1, 50),\n",
    "    'max_bin' : (10, 500),\n",
    "    'reg_lambda' : (0.001, 10),\n",
    "    'reg_alpha' : (0.01, 50)\n",
    "}\n",
    "\n",
    "# 최대값을 구할 함수\n",
    "def lgb_logloss_eval(max_depth, num_leaves, min_child_weight, \n",
    "                    max_bin, reg_lambda, reg_alpha) :\n",
    "    params = {\n",
    "        'n_estimators' : 4000, 'learning_rate' : 0.02,\n",
    "        'max_depth' : int(round(max_depth)),\n",
    "        'num_leaves' : int(round(num_leaves)),\n",
    "        'min_child_weight' : int(round(min_child_weight)),\n",
    "        'max_bin' : max(int(round(max_bin)), 10),\n",
    "        'reg_lambda' : max(reg_lambda, 0),\n",
    "        'reg_alpha' : max(reg_alpha, 0)\n",
    "    }\n",
    "    \n",
    "    lgbm = LGBMClassifier(**params) \n",
    "    lgbm.fit(train_X, train_y, eval_set=[(train_X, train_y), (valid_X, valid_y)], eval_metric='logloss', verbose=100,\n",
    "            early_stopping_rounds=150)\n",
    "    valid_proba = lgbm.predict_proba(valid_X)\n",
    "    logloss = log_loss(valid_y, valid_proba)\n",
    "    return logloss\n",
    "\n",
    "# 베이지안 최적화 객체 생성 후 최적 파라미터 \n",
    "lgbm_opt = BayesianOptimization(lgb_logloss_eval, bayes_params, random_state=2020)\n",
    "lgbm_opt.maximize(init_points=5, n_iter=25)"
   ]
  },
  {
   "cell_type": "code",
   "execution_count": null,
   "id": "904438d6",
   "metadata": {},
   "outputs": [],
   "source": [
    "# 결과에서 logloss가 최소가 되는 파라미터를 사용해 재학습\n",
    "\n",
    "target_list = []\n",
    "\n",
    "for result in lgbm_opt.res : \n",
    "    target = result['target']\n",
    "    target_list.append(target)\n",
    "    \n",
    "min_value = target_list[0]\n",
    "\n",
    "for ind, target in enumerate(target_list) :\n",
    "    if min_value > target :\n",
    "        min_value = target\n",
    "        min_ind = ind\n",
    "min_value, min_ind"
   ]
  },
  {
   "cell_type": "code",
   "execution_count": null,
   "id": "03729d8f",
   "metadata": {},
   "outputs": [],
   "source": [
    "lgbm_opt.res[6]['params']"
   ]
  }
 ],
 "metadata": {
  "kernelspec": {
   "display_name": "Python 3 (ipykernel)",
   "language": "python",
   "name": "python3"
  },
  "language_info": {
   "codemirror_mode": {
    "name": "ipython",
    "version": 3
   },
   "file_extension": ".py",
   "mimetype": "text/x-python",
   "name": "python",
   "nbconvert_exporter": "python",
   "pygments_lexer": "ipython3",
   "version": "3.9.12"
  }
 },
 "nbformat": 4,
 "nbformat_minor": 5
}
